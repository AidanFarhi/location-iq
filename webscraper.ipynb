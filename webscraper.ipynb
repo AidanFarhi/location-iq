{
 "cells": [
  {
   "cell_type": "code",
   "execution_count": 1,
   "metadata": {},
   "outputs": [],
   "source": [
    "from selenium import webdriver\n",
    "from selenium.webdriver.common.by import By\n",
    "from selenium.webdriver.support.ui import WebDriverWait\n",
    "from selenium.webdriver.support import expected_conditions as EC\n",
    "from time import sleep\n",
    "import pandas as pd"
   ]
  },
  {
   "cell_type": "code",
   "execution_count": 14,
   "metadata": {},
   "outputs": [
    {
     "name": "stdout",
     "output_type": "stream",
     "text": [
      "Saved table for ZIP code 11226 to extracted_table_11226.html\n",
      "Saved table for ZIP code 10001 to extracted_table_10001.html\n",
      "Saved table for ZIP code 90210 to extracted_table_90210.html\n"
     ]
    }
   ],
   "source": [
    "df = pd.read_csv(\n",
    "    'data/RDC_Inventory_Core_Metrics_Zip_History.csv',\n",
    "    dtype={'postal_code': 'str'},\n",
    "    usecols=['postal_code']\n",
    ")\n",
    "zip_codes = list(filter(lambda x: x is not None, df.postal_code.unique()))\n",
    "\n",
    "# Initialize the WebDriver\n",
    "driver = webdriver.Chrome()\n",
    "\n",
    "# Loop through each ZIP code\n",
    "for zip_code in zip_codes:\n",
    "    # Navigate to the initial URL\n",
    "    driver.get(\"https://crimegrade.org/crime-by-zip-code/\")\n",
    "\n",
    "    # Find and enter the ZIP code\n",
    "    zip_field = driver.find_element(By.ID, \"zip-code\")\n",
    "    zip_field.send_keys(zip_code)\n",
    "\n",
    "    # Click the submit button\n",
    "    submit_button = driver.find_element(By.ID, \"submit\")\n",
    "    submit_button.click()\n",
    "\n",
    "    # Wait until the specific table is loaded on the redirected page\n",
    "    try:\n",
    "        # Wait until the table with the specific class appears\n",
    "        table_element = WebDriverWait(driver, 10).until(\n",
    "            EC.presence_of_element_located((By.CLASS_NAME, \"gradeComponents\"))\n",
    "        )\n",
    "\n",
    "        # Get the HTML content of the table\n",
    "        table_html = table_element.get_attribute(\"outerHTML\")\n",
    "\n",
    "        # Save the extracted table HTML to a file, naming it by ZIP code\n",
    "        file_name = f\"extracted_table_{zip_code}.html\"\n",
    "        with open(file_name, \"w\", encoding=\"utf-8\") as file:\n",
    "            file.write(table_html)\n",
    "\n",
    "        print(f\"Saved table for ZIP code {zip_code} to {file_name}\")\n",
    "\n",
    "    except Exception as e:\n",
    "        print(f\"Error: Table did not load in time or was not found for ZIP code {zip_code}.\", e)\n",
    "\n",
    "    # Sleep between requests\n",
    "    sleep(1)  # Adjust the sleep time as needed\n",
    "\n",
    "# Close the WebDriver\n",
    "driver.quit()"
   ]
  },
  {
   "cell_type": "code",
   "execution_count": null,
   "metadata": {},
   "outputs": [],
   "source": []
  }
 ],
 "metadata": {
  "kernelspec": {
   "display_name": ".venv",
   "language": "python",
   "name": "python3"
  },
  "language_info": {
   "codemirror_mode": {
    "name": "ipython",
    "version": 3
   },
   "file_extension": ".py",
   "mimetype": "text/x-python",
   "name": "python",
   "nbconvert_exporter": "python",
   "pygments_lexer": "ipython3",
   "version": "3.12.5"
  }
 },
 "nbformat": 4,
 "nbformat_minor": 2
}
